{
 "cells": [
  {
   "cell_type": "code",
   "execution_count": 76,
   "metadata": {},
   "outputs": [],
   "source": [
    "import ccdc.io\n",
    "import ccdc.search\n",
    "import os\n",
    "import ccdc.search\n",
    "from ccdc.pharmacophore import Pharmacophore"
   ]
  },
  {
   "cell_type": "code",
   "execution_count": 77,
   "metadata": {},
   "outputs": [],
   "source": [
    "db_file = os.path.join(os.path.dirname(Pharmacophore.default_feature_database_location()), 'pdb_crossminer.csdsqlx')\n",
    "db = ccdc.io.EntryReader(db_file)"
   ]
  },
  {
   "cell_type": "code",
   "execution_count": 78,
   "metadata": {},
   "outputs": [],
   "source": [
    "query = ccdc.search.SubstructureSearch()\n"
   ]
  },
  {
   "cell_type": "code",
   "execution_count": 79,
   "metadata": {},
   "outputs": [
    {
     "name": "stdout",
     "output_type": "stream",
     "text": [
      "6\n"
     ]
    }
   ],
   "source": [
    "amide = ccdc.search.SMARTSSubstructure('[NX3][CX3](=[OX1])[#6]')\n",
    "for a in amide.atoms:\n",
    "    a.add_protein_atom_type_constraint('Ligand')\n",
    "flourine = ccdc.search.SMARTSSubstructure('[F]')\n",
    "\n",
    "\n",
    "\n",
    "flourine.atoms[0].add_protein_atom_type_constraint('ligand')\n",
    "sub1 = query.add_substructure(flourine)\n",
    "sub2 = query.add_substructure(amide)\n",
    "\n",
    "query.add_centroid('CENT1', (sub2, 1), (sub2, 2), (sub2, 0))\n",
    "query.add_centroid('CENT2', (sub1, 0))\n",
    "query.add_plane('PLANE2', (sub2, 0), (sub2, 1), (sub2, 2))\n",
    "query.add_vector('VEC1', 'CENT2', (1,2))\n",
    "\n",
    "query.add_distance_constraint('DIST1', 'CENT1', 'CENT2', (0, 3.5))\n",
    "#query.add_vector_plane_angle_measurement('ANG1', 'VEC1', 'PLANE2')\n",
    "query.add_vector_plane_angle_constraint('ANG1', 'VEC1', 'PLANE2', (75, 110))\n",
    "hits = query.search(db)\n",
    "print(len(hits))"
   ]
  },
  {
   "cell_type": "code",
   "execution_count": 80,
   "metadata": {},
   "outputs": [],
   "source": [
    "class WriteHit(ccdc.search.SubstructureSearch.HitProcessor):\n",
    "    '''Print out the hit id each time we find one'''\n",
    "    def __init__(self, max_hits=1000):\n",
    "        self.hits = [] # ccdc.search.SubstructureHit objects\n",
    "        self.max_hits = max_hits\n",
    "    def add_hit(self, hit):\n",
    "        self.hits.append(hit)\n",
    "        print(hit.identifier, \"nhits {}\".format(len(self.hits)))\n",
    "        if len(self.hits) == self.max_hits:\n",
    "            self.cancel()"
   ]
  },
  {
   "cell_type": "code",
   "execution_count": 81,
   "metadata": {},
   "outputs": [],
   "source": [
    "hit_writer = WriteHit()"
   ]
  },
  {
   "cell_type": "code",
   "execution_count": 82,
   "metadata": {},
   "outputs": [
    {
     "data": {
      "text/plain": [
       "295768"
      ]
     },
     "execution_count": 82,
     "metadata": {},
     "output_type": "execute_result"
    }
   ],
   "source": [
    "len(db)"
   ]
  },
  {
   "cell_type": "code",
   "execution_count": 83,
   "metadata": {},
   "outputs": [
    {
     "name": "stdout",
     "output_type": "stream",
     "text": [
      "2IIT_m1_A_bs_872_A_9001 nhits 1\n",
      "2IIT_m1_B_bs_872_B_9002 nhits 2\n",
      "3C27_m1_B_bs_DKK_B_5000 nhits 3\n",
      "3F5E_m1_A_bs_SIA_A_401 nhits 4\n",
      "6M90_m1_A_bs_J91_A_601 nhits 5\n",
      "6M90_m1_A_bs_LEU_C_31 nhits 6\n"
     ]
    }
   ],
   "source": [
    "hit_writer.search(query, db)"
   ]
  },
  {
   "cell_type": "code",
   "execution_count": null,
   "metadata": {},
   "outputs": [],
   "source": []
  }
 ],
 "metadata": {
  "kernelspec": {
   "display_name": "Python 3",
   "language": "python",
   "name": "python3"
  },
  "language_info": {
   "codemirror_mode": {
    "name": "ipython",
    "version": 3
   },
   "file_extension": ".py",
   "mimetype": "text/x-python",
   "name": "python",
   "nbconvert_exporter": "python",
   "pygments_lexer": "ipython3",
   "version": "3.7.5"
  }
 },
 "nbformat": 4,
 "nbformat_minor": 2
}
